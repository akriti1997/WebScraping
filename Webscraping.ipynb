{
  "nbformat": 4,
  "nbformat_minor": 0,
  "metadata": {
    "colab": {
      "name": "Webscraping.ipynb",
      "provenance": []
    },
    "kernelspec": {
      "name": "python3",
      "display_name": "Python 3"
    },
    "language_info": {
      "name": "python"
    }
  },
  "cells": [
    {
      "cell_type": "code",
      "source": [
        "! pip install autoscraper"
      ],
      "metadata": {
        "colab": {
          "base_uri": "https://localhost:8080/"
        },
        "id": "Kn60pImfbFXc",
        "outputId": "e1667ec3-2a5f-4a74-ccc6-41ef6bbe2c43"
      },
      "execution_count": 21,
      "outputs": [
        {
          "output_type": "stream",
          "name": "stdout",
          "text": [
            "Looking in indexes: https://pypi.org/simple, https://us-python.pkg.dev/colab-wheels/public/simple/\n",
            "Collecting autoscraper\n",
            "  Downloading autoscraper-1.1.12-py3-none-any.whl (10 kB)\n",
            "Requirement already satisfied: requests in /usr/local/lib/python3.7/dist-packages (from autoscraper) (2.23.0)\n",
            "Requirement already satisfied: bs4 in /usr/local/lib/python3.7/dist-packages (from autoscraper) (0.0.1)\n",
            "Requirement already satisfied: lxml in /usr/local/lib/python3.7/dist-packages (from autoscraper) (4.2.6)\n",
            "Requirement already satisfied: beautifulsoup4 in /usr/local/lib/python3.7/dist-packages (from bs4->autoscraper) (4.6.3)\n",
            "Requirement already satisfied: urllib3!=1.25.0,!=1.25.1,<1.26,>=1.21.1 in /usr/local/lib/python3.7/dist-packages (from requests->autoscraper) (1.24.3)\n",
            "Requirement already satisfied: idna<3,>=2.5 in /usr/local/lib/python3.7/dist-packages (from requests->autoscraper) (2.10)\n",
            "Requirement already satisfied: chardet<4,>=3.0.2 in /usr/local/lib/python3.7/dist-packages (from requests->autoscraper) (3.0.4)\n",
            "Requirement already satisfied: certifi>=2017.4.17 in /usr/local/lib/python3.7/dist-packages (from requests->autoscraper) (2022.6.15)\n",
            "Installing collected packages: autoscraper\n",
            "Successfully installed autoscraper-1.1.12\n"
          ]
        }
      ]
    },
    {
      "cell_type": "code",
      "source": [
        "from autoscraper import AutoScraper"
      ],
      "metadata": {
        "id": "YN26k3bFFkU6"
      },
      "execution_count": 23,
      "outputs": []
    },
    {
      "cell_type": "code",
      "source": [
        "url=\"https://www.amazon.in/s?k=phone\""
      ],
      "metadata": {
        "id": "ErEai3IYGA78"
      },
      "execution_count": 76,
      "outputs": []
    },
    {
      "cell_type": "code",
      "source": [
        "wanted_list=[\"₹17,990\",\"Vivo Y33T (Mirror Black, 8GB RAM, 128GB ROM) with No Cost EMI/Additional Exchange Offers\",\"621\"]"
      ],
      "metadata": {
        "id": "lRzkbhQjxNc1"
      },
      "execution_count": 80,
      "outputs": []
    },
    {
      "cell_type": "code",
      "source": [
        "scraper=AutoScraper()\n",
        "result=scraper.build(url,wanted_list)"
      ],
      "metadata": {
        "id": "JFksUr-Pyv7L"
      },
      "execution_count": 81,
      "outputs": []
    },
    {
      "cell_type": "code",
      "source": [
        "print(result)"
      ],
      "metadata": {
        "colab": {
          "base_uri": "https://localhost:8080/"
        },
        "id": "oEzwtNElzOJq",
        "outputId": "33c826b8-9652-4d30-beee-afab2e5d12b6"
      },
      "execution_count": 82,
      "outputs": [
        {
          "output_type": "stream",
          "name": "stdout",
          "text": [
            "['₹17,990', '₹22,990', '₹19,989', '₹24,990', '₹11,899', '₹24,999', 'Vivo Y33T (Mirror Black, 8GB RAM, 128GB ROM) with No Cost EMI/Additional Exchange Offers', 'Vivo Y73 (Diamond Flare, 8GB RAM, 128GB Storage) with No Cost EMI/Additional Exchange Offers', '5s I/Phone 8 MegaPixel Camera 16GB Internal Memory - Gold', '621', '2,218']\n"
          ]
        }
      ]
    },
    {
      "cell_type": "code",
      "source": [
        "scraper.get_result_similar(url,grouped=True)"
      ],
      "metadata": {
        "colab": {
          "base_uri": "https://localhost:8080/"
        },
        "id": "O0ivCrX-z-uv",
        "outputId": "55bd5af2-4da9-4ac5-ae7f-9fed22a99d38"
      },
      "execution_count": 83,
      "outputs": [
        {
          "output_type": "execute_result",
          "data": {
            "text/plain": [
              "{'rule_ocvo': ['₹17,990',\n",
              "  '₹22,990',\n",
              "  '₹19,989',\n",
              "  '₹24,990',\n",
              "  '₹11,899',\n",
              "  '₹24,999'],\n",
              " 'rule_p0to': ['Vivo Y33T (Mirror Black, 8GB RAM, 128GB ROM) with No Cost EMI/Additional Exchange Offers',\n",
              "  'Vivo Y73 (Diamond Flare, 8GB RAM, 128GB Storage) with No Cost EMI/Additional Exchange Offers',\n",
              "  '5s I/Phone 8 MegaPixel Camera 16GB Internal Memory - Gold'],\n",
              " 'rule_pdkf': ['621', '2,218'],\n",
              " 'rule_w96h': ['₹17,990',\n",
              "  '₹22,990',\n",
              "  '₹19,989',\n",
              "  '₹24,990',\n",
              "  '₹11,899',\n",
              "  '₹24,999']}"
            ]
          },
          "metadata": {},
          "execution_count": 83
        }
      ]
    },
    {
      "cell_type": "code",
      "source": [
        "scraper.set_rule_aliases({'rule_p0to':'Title','rule_ocvo':'Price'})\n",
        "scraper.keep_rules(['rule_p0to','rule_ocvo'])\n",
        "scraper.save('amazon-search')"
      ],
      "metadata": {
        "id": "kEEdWudP09ZC"
      },
      "execution_count": 84,
      "outputs": []
    },
    {
      "cell_type": "code",
      "source": [
        "res=scraper.get_result_similar('https://www.amazon.in/s?k=iphone',group_by_alias=True)"
      ],
      "metadata": {
        "id": "1o0cA9klG3vQ"
      },
      "execution_count": 85,
      "outputs": []
    },
    {
      "cell_type": "code",
      "source": [
        "res['Price']\n"
      ],
      "metadata": {
        "colab": {
          "base_uri": "https://localhost:8080/"
        },
        "id": "IO7sBQyfMzDS",
        "outputId": "c1dc56e5-bc1c-4fe0-a1c1-411898cbd7a4"
      },
      "execution_count": 86,
      "outputs": [
        {
          "output_type": "execute_result",
          "data": {
            "text/plain": [
              "['₹60,900', '₹70,900', '₹49,900', '₹54,900']"
            ]
          },
          "metadata": {},
          "execution_count": 86
        }
      ]
    }
  ]
}